{
 "cells": [
  {
   "cell_type": "code",
   "execution_count": null,
   "metadata": {},
   "outputs": [],
   "source": [
    "!pip install -r requirements.txt"
   ]
  },
  {
   "cell_type": "code",
   "execution_count": 5,
   "metadata": {},
   "outputs": [],
   "source": [
    "import pandas as pd\n",
    "import requests\n",
    "from datetime import datetime\n",
    "from tqdm import tqdm, trange\n",
    "import os\n",
    "from PIL import Image"
   ]
  },
  {
   "cell_type": "code",
   "execution_count": 6,
   "metadata": {},
   "outputs": [],
   "source": [
    "from pptx import Presentation\n",
    "from pptx.util import Inches"
   ]
  },
  {
   "cell_type": "markdown",
   "metadata": {},
   "source": [
    "# Fotos"
   ]
  },
  {
   "cell_type": "markdown",
   "metadata": {},
   "source": [
    "0. Tornar quadro público\n",
    "1. Baixar csv no trello\n",
    "2. Salvar na mesma pasta do código\n",
    "3. Alterar o nome do arquivo célula abaixo"
   ]
  },
  {
   "cell_type": "code",
   "execution_count": 7,
   "metadata": {},
   "outputs": [],
   "source": [
    "arquivo = 'quadro.csv'"
   ]
  },
  {
   "cell_type": "markdown",
   "metadata": {},
   "source": [
    "### Ler csv"
   ]
  },
  {
   "cell_type": "code",
   "execution_count": 8,
   "metadata": {},
   "outputs": [],
   "source": [
    "trello = pd.read_csv(arquivo)"
   ]
  },
  {
   "cell_type": "markdown",
   "metadata": {},
   "source": [
    "### baixar fotos"
   ]
  },
  {
   "cell_type": "code",
   "execution_count": 10,
   "metadata": {},
   "outputs": [],
   "source": [
    "def get_fotos(tabela, lista):\n",
    "    data = []\n",
    "    tabela_lista = tabela.loc[tabela['List Name']==lista]\n",
    "    for i in trange(1, len(tabela_lista)):\n",
    "        card = tabela_lista.iloc[i].to_dict()\n",
    "        card['Board Name'] = card['Board Name'].replace(' ','')\n",
    "        card['List Name'] = card['List Name'].replace(' ','')\n",
    "        # print(card)\n",
    "        path = f'images/{card[\"Board Name\"]}/{card[\"List Name\"]}'\n",
    "        if not(os.path.exists(path)):\n",
    "            os.makedirs(path)\n",
    "        tmp = {'board': card['Board Name'], 'list': card['List Name'], 'card': card['Card Name'], 'description': card['Card Description'], \n",
    "                'data': card['Due Date'], 'fotos' : []}\n",
    "        # print(type(card['Attachment Links']) == type('str'))\n",
    "        if type(card['Attachment Links']) == type('str'):\n",
    "            fotos = card['Attachment Links'].split(', ')\n",
    "            for j in range(0, len(fotos)):\n",
    "                foto = fotos[j]\n",
    "                filename = foto.split('/')[-1]\n",
    "                if filename[-3:] == 'jpg':\n",
    "                    tmp['fotos'].append(filename)\n",
    "                    r = requests.get(foto, allow_redirects=True)\n",
    "                    open(f'images/{card[\"Board Name\"]}/{card[\"List Name\"]}/{filename}', 'wb').write(r.content)\n",
    "        data.append(tmp)\n",
    "    return data"
   ]
  },
  {
   "cell_type": "markdown",
   "metadata": {},
   "source": [
    "4. Altere no nome da lista ('Atividades') mantendo entre parenteses"
   ]
  },
  {
   "cell_type": "code",
   "execution_count": 11,
   "metadata": {},
   "outputs": [
    {
     "name": "stderr",
     "output_type": "stream",
     "text": [
      "100%|██████████| 22/22 [00:50<00:00,  2.32s/it]\n"
     ]
    }
   ],
   "source": [
    "data = get_fotos(trello, 'Atividades')"
   ]
  },
  {
   "cell_type": "markdown",
   "metadata": {},
   "source": [
    "### Gerar apresentação"
   ]
  },
  {
   "cell_type": "code",
   "execution_count": 18,
   "metadata": {},
   "outputs": [],
   "source": [
    "def get_slides():\n",
    "    prs = Presentation()\n",
    "    for item in tqdm(data):\n",
    "        path_report = f'reports/{item[\"board\"]}/{item[\"list\"]}'\n",
    "        path_img = f'images/{item[\"board\"]}/{item[\"list\"]}'\n",
    "        if not(os.path.exists(path_report)):\n",
    "            os.makedirs(path_report)\n",
    "        \n",
    "        for foto in item['fotos']:\n",
    "            # print(foto)\n",
    "            img_path = f'{path_img}/{foto}'\n",
    "            img = Image.open(img_path)\n",
    "            # print(img_path)\n",
    "            blank_slide_layout = prs.slide_layouts[5]\n",
    "            slide = prs.slides.add_slide(blank_slide_layout)\n",
    "            shapes = slide.shapes\n",
    "\n",
    "            title_shape = shapes.title\n",
    "            title_shape.text = item[\"card\"]\n",
    "\n",
    "            left = Inches(0.2)  # 0.93\" centers this overall set of shapes\n",
    "            top = Inches(7)\n",
    "            width = height = Inches(1.5)\n",
    "\n",
    "            txBox = slide.shapes.add_textbox(left, top, width, height)\n",
    "            tf = txBox.text_frame\n",
    "            date = datetime.strftime(datetime.strptime(data[0]['data'], '%Y-%m-%dT%H:%M:%S.%fZ'),'%d/%m/%Y')\n",
    "            tf.text = date\n",
    "\n",
    "            left = Inches(3.5)  # 0.93\" centers this overall set of shapes\n",
    "            top = Inches(1.9)\n",
    "            width = Inches((img.width/900)*3)\n",
    "            height = Inches((img.height/1600)*5)\n",
    "\n",
    "            # pic = slide.shapes.add_picture(img_path, left, top)\n",
    "\n",
    "            pic = slide.shapes.add_picture(img_path, left, top, height=height, width=width)\n",
    "            pic.left = (prs.slide_width - pic.width) // 2\n",
    "            # pic.top = (prs.slide_height - pic.height) // 2\n",
    "            \n",
    "    prs.save(f'{path_report}/{item[\"board\"]}-{item[\"list\"]}-{datetime.now()}.pptx')\n",
    "    return True \n"
   ]
  },
  {
   "cell_type": "code",
   "execution_count": 19,
   "metadata": {},
   "outputs": [
    {
     "name": "stderr",
     "output_type": "stream",
     "text": [
      "100%|██████████| 22/22 [00:00<00:00, 231.24it/s]\n"
     ]
    },
    {
     "data": {
      "text/plain": [
       "True"
      ]
     },
     "execution_count": 19,
     "metadata": {},
     "output_type": "execute_result"
    }
   ],
   "source": [
    "get_slides()"
   ]
  }
 ],
 "metadata": {
  "kernelspec": {
   "display_name": "venv",
   "language": "python",
   "name": "python3"
  },
  "language_info": {
   "codemirror_mode": {
    "name": "ipython",
    "version": 3
   },
   "file_extension": ".py",
   "mimetype": "text/x-python",
   "name": "python",
   "nbconvert_exporter": "python",
   "pygments_lexer": "ipython3",
   "version": "3.9.7"
  },
  "orig_nbformat": 4
 },
 "nbformat": 4,
 "nbformat_minor": 2
}
